{
 "cells": [
  {
   "cell_type": "code",
   "execution_count": 19,
   "id": "5fe4b993-be34-4346-ac19-b82d1463d2d0",
   "metadata": {},
   "outputs": [],
   "source": [
    "import requests\n",
    "from bs4 import BeautifulSoup\n",
    "import pandas as pd\n",
    "import numpy as np\n"
   ]
  },
  {
   "cell_type": "code",
   "execution_count": 11,
   "id": "b1c26bef",
   "metadata": {},
   "outputs": [
    {
     "name": "stdout",
     "output_type": "stream",
     "text": [
      "[['August 01', 'Sunday', 'Application for degree for January and February 2022 begins'], ['August 18', 'Wednesday', 'Last day to apply for Study Abroad'], ['August 24', 'Tuesday', 'Last day of Registration;\\n\\t\\t\\tLast day to file ePermit for the Fall 2021;\\n\\t\\t\\tLast day to drop classes for 100% tuition refund;'], ['August 25', 'Wednesday', 'Start of Fall Term;\\n\\t\\t\\tClasses begin;\\n\\t\\t\\tInitial Registration Appeals begin;'], ['August 25 - 31', 'Wednesday - Tuesday', 'Change of program period; late fees apply'], ['August 26', 'Thursday', 'Last day for Independent Study'], ['August 28', 'Saturday', 'First day of Saturday Classes'], ['August 31', 'Tuesday', \"Last day to add a class to an existing enrollment;\\n\\t\\t\\tLast day for 75% tuition refund;\\n\\t\\t\\tFinancial Aid Certification Enrollment Status date;\\n\\t\\t\\tLast day to apply for Audit option;\\n\\t\\t\\tLast day to drop without the grade of 'WD';\\n\\t\\t\\tInitial Registration Appeals end;\"], ['September 01', 'Wednesday', \"Verification of Enrollment rosters available to faculty;\\n\\t\\t\\tCourse Withdrawal drop period begins (A grade of 'WD' is assigned to students who officially drop a class);\"], ['September 03 - 08', 'Friday - Wednesday', 'No classes scheduled'], ['September 06', 'Monday', 'College Closed;\\n\\t\\t\\tLast day for 50% tuition refund;'], ['September 09', 'Thursday', 'Freshman Convocation'], ['September 14', 'Tuesday', \"Last day for 25% tuition refund;\\n\\t\\t\\tCensus date;\\n\\t\\t\\tLast day to change or declare a major/minor to be effective in Fall 2021;\\n\\t\\t\\tLast day to drop without the grade of 'W';\\n\\t\\t\\tCourse Withdrawal drop period ends (Last day for 'WD' grades);\\n\\t\\t\\tVerification of Enrollment Rosters Dues from Faculty;\"], ['September 15', 'Wednesday', \"Assignment of 'WN' grades for non-attendance;\\n\\t\\t\\tCourse Withdrawal period begins (A grade of 'W' is assigned to students who officially drop a class) - No Refund;\\n\\t\\t\\t100% Tuition obligation for course drops;\"], ['September 15 - 16', 'Wednesday - Thursday', 'No classes scheduled'], ['September 23', 'Thursday', 'Last day to submit proof of immunization for NYS residents;'], ['September 24', 'Friday', \"Assignment of 'WA' grades for immunization non-compliance\"], ['October 01', 'Friday', 'Advising month begins for Spring and Winter enrollment'], ['October 08', 'Friday', 'Deadline for filing application for degree for January and February 2022;\\n\\t\\t\\tLast day to submit proof of immunization for non-NYS residents;'], ['October 11', 'Monday', 'College Closed'], ['November 01', 'Monday', \"'INC' grades for Spring 2021 and Winter 2021 for Undergraduate students convert to 'FIN';\\n\\t\\t\\t'INC' grades for Summer 2020 and Fall 2020 for Graduate students convert to 'FIN';\"], ['November 02', 'Tuesday', 'Registration appointments for Winter and Spring 2022 begin for continuing students.\\xa0 Check your CUNYFirst account for your appointment date and time.'], ['November 04', 'Thursday', 'Last day to file for P/NC option'], ['November 06', 'Saturday', '60% Date of the term'], ['November 23', 'Tuesday', \"'INC' grades for Summer 2021 for Undergraduate students convert to 'FIN'\"], ['November 25 - 28', 'Thursday - Sunday', 'College Closed'], ['December 11', 'Saturday', 'Last day of Saturday Classes'], ['December 13', 'Monday', \"Course Withdrawal period ends (Last day to withdraw from a class with the grade of 'W');\\n\\t\\t\\tLast day of Classes;\"], ['December 14', 'Tuesday', 'Reading Day'], ['December 15 - 21', 'Wednesday - Tuesday', 'Final Examinations'], ['December 21', 'Tuesday', 'End of Term'], ['December 24 - 25', 'Friday - Saturday', 'College Closed'], ['December 27', 'Monday', 'College Closed'], ['December 28', 'Tuesday', 'Final Grade Submission Deadline for Fall 2021'], ['December 31', 'Friday', 'College Closed'], ['January 1, 2022', 'Saturday', 'College Closed;\\n\\t\\t\\tFall 2021 Degree Conferral Date;']]\n"
     ]
    }
   ],
   "source": [
    "import requests\n",
    "from bs4 import BeautifulSoup\n",
    "\n",
    "# Fetch the HTML content\n",
    "url = \"https://www.ccny.cuny.edu/registrar/fall\"\n",
    "response = requests.get(url)\n",
    "out_tuple=[]\n",
    "# Check if the request was successful\n",
    "if response.status_code == 200: #if http request is successful, proceed.\n",
    "    soup = BeautifulSoup(response.content, \"html.parser\")\n",
    "    \n",
    "    # Find the table <- beautiful soup stuff\n",
    "    table = soup.find('table') \n",
    "    \n",
    "    for row in table.find_all('tr'):\n",
    "        row_data = []\n",
    "        for cell in row.find_all(['td', 'th']):  # include both td and th tags\n",
    "            row_data.append(cell.text.strip())\n",
    "        out_tuple.append(row_data)\n",
    "\n",
    "else:\n",
    "    print(\"Request failed with status code:\", response.status_code) #if http request is not successful, print error message.\n",
    "out_tuple=out_tuple[1:]\n",
    "\n",
    "print(out_tuple)\n"
   ]
  }
 ],
 "metadata": {
  "kernelspec": {
   "display_name": ".venv",
   "language": "python",
   "name": "python3"
  },
  "language_info": {
   "codemirror_mode": {
    "name": "ipython",
    "version": 3
   },
   "file_extension": ".py",
   "mimetype": "text/x-python",
   "name": "python",
   "nbconvert_exporter": "python",
   "pygments_lexer": "ipython3",
   "version": "3.12.4"
  }
 },
 "nbformat": 4,
 "nbformat_minor": 5
}
